{
 "cells": [
  {
   "cell_type": "code",
   "execution_count": 1,
   "metadata": {},
   "outputs": [],
   "source": [
    "import numpy as np\n",
    "import pandas as pd\n",
    "\n",
    "import warnings\n",
    "warnings.filterwarnings(\"ignore\")"
   ]
  },
  {
   "cell_type": "markdown",
   "metadata": {},
   "source": [
    "### One Hot Encoding"
   ]
  },
  {
   "cell_type": "code",
   "execution_count": 2,
   "metadata": {},
   "outputs": [],
   "source": [
    "# creating dataframe\n",
    "\n",
    "phone_df = pd.DataFrame([\n",
    "        [\"Phone 1\", \"Blue\", 2018, 500],\n",
    "        [\"Phone 2\", \"Black\", 2016, 450],\n",
    "        [\"Phone 3\", \"Blue\", 2017, 600],\n",
    "        [\"Phone 4\", \"Grey\", 2018, 800]])\n",
    "\n",
    "phone_df.columns = [\"Phone\", \"Color\", \"Year\", \"Price\"]"
   ]
  },
  {
   "cell_type": "code",
   "execution_count": 3,
   "metadata": {},
   "outputs": [
    {
     "data": {
      "text/html": [
       "<div>\n",
       "<style scoped>\n",
       "    .dataframe tbody tr th:only-of-type {\n",
       "        vertical-align: middle;\n",
       "    }\n",
       "\n",
       "    .dataframe tbody tr th {\n",
       "        vertical-align: top;\n",
       "    }\n",
       "\n",
       "    .dataframe thead th {\n",
       "        text-align: right;\n",
       "    }\n",
       "</style>\n",
       "<table border=\"1\" class=\"dataframe\">\n",
       "  <thead>\n",
       "    <tr style=\"text-align: right;\">\n",
       "      <th></th>\n",
       "      <th>Phone</th>\n",
       "      <th>Color</th>\n",
       "      <th>Year</th>\n",
       "      <th>Price</th>\n",
       "    </tr>\n",
       "  </thead>\n",
       "  <tbody>\n",
       "    <tr>\n",
       "      <th>0</th>\n",
       "      <td>Phone 1</td>\n",
       "      <td>Blue</td>\n",
       "      <td>2018</td>\n",
       "      <td>500</td>\n",
       "    </tr>\n",
       "    <tr>\n",
       "      <th>1</th>\n",
       "      <td>Phone 2</td>\n",
       "      <td>Black</td>\n",
       "      <td>2016</td>\n",
       "      <td>450</td>\n",
       "    </tr>\n",
       "    <tr>\n",
       "      <th>2</th>\n",
       "      <td>Phone 3</td>\n",
       "      <td>Blue</td>\n",
       "      <td>2017</td>\n",
       "      <td>600</td>\n",
       "    </tr>\n",
       "    <tr>\n",
       "      <th>3</th>\n",
       "      <td>Phone 4</td>\n",
       "      <td>Grey</td>\n",
       "      <td>2018</td>\n",
       "      <td>800</td>\n",
       "    </tr>\n",
       "  </tbody>\n",
       "</table>\n",
       "</div>"
      ],
      "text/plain": [
       "     Phone  Color  Year  Price\n",
       "0  Phone 1   Blue  2018    500\n",
       "1  Phone 2  Black  2016    450\n",
       "2  Phone 3   Blue  2017    600\n",
       "3  Phone 4   Grey  2018    800"
      ]
     },
     "execution_count": 3,
     "metadata": {},
     "output_type": "execute_result"
    }
   ],
   "source": [
    "# created df\n",
    "phone_df"
   ]
  },
  {
   "cell_type": "code",
   "execution_count": 4,
   "metadata": {},
   "outputs": [],
   "source": [
    "# importing label encoder\n",
    "\n",
    "from sklearn.preprocessing import LabelEncoder\n",
    "\n",
    "le_phone = LabelEncoder()\n",
    "le_color = LabelEncoder()"
   ]
  },
  {
   "cell_type": "code",
   "execution_count": 5,
   "metadata": {},
   "outputs": [],
   "source": [
    "# label encoding the categorical features\n",
    "\n",
    "phone_df[\"phone_enc\"] = le_phone.fit_transform(phone_df[\"Phone\"])\n",
    "phone_df[\"color_enc\"] = le_color.fit_transform(phone_df[\"Color\"])"
   ]
  },
  {
   "cell_type": "code",
   "execution_count": 6,
   "metadata": {},
   "outputs": [
    {
     "data": {
      "text/html": [
       "<div>\n",
       "<style scoped>\n",
       "    .dataframe tbody tr th:only-of-type {\n",
       "        vertical-align: middle;\n",
       "    }\n",
       "\n",
       "    .dataframe tbody tr th {\n",
       "        vertical-align: top;\n",
       "    }\n",
       "\n",
       "    .dataframe thead th {\n",
       "        text-align: right;\n",
       "    }\n",
       "</style>\n",
       "<table border=\"1\" class=\"dataframe\">\n",
       "  <thead>\n",
       "    <tr style=\"text-align: right;\">\n",
       "      <th></th>\n",
       "      <th>Phone</th>\n",
       "      <th>Color</th>\n",
       "      <th>Year</th>\n",
       "      <th>Price</th>\n",
       "      <th>phone_enc</th>\n",
       "      <th>color_enc</th>\n",
       "    </tr>\n",
       "  </thead>\n",
       "  <tbody>\n",
       "    <tr>\n",
       "      <th>0</th>\n",
       "      <td>Phone 1</td>\n",
       "      <td>Blue</td>\n",
       "      <td>2018</td>\n",
       "      <td>500</td>\n",
       "      <td>0</td>\n",
       "      <td>1</td>\n",
       "    </tr>\n",
       "    <tr>\n",
       "      <th>1</th>\n",
       "      <td>Phone 2</td>\n",
       "      <td>Black</td>\n",
       "      <td>2016</td>\n",
       "      <td>450</td>\n",
       "      <td>1</td>\n",
       "      <td>0</td>\n",
       "    </tr>\n",
       "    <tr>\n",
       "      <th>2</th>\n",
       "      <td>Phone 3</td>\n",
       "      <td>Blue</td>\n",
       "      <td>2017</td>\n",
       "      <td>600</td>\n",
       "      <td>2</td>\n",
       "      <td>1</td>\n",
       "    </tr>\n",
       "    <tr>\n",
       "      <th>3</th>\n",
       "      <td>Phone 4</td>\n",
       "      <td>Grey</td>\n",
       "      <td>2018</td>\n",
       "      <td>800</td>\n",
       "      <td>3</td>\n",
       "      <td>2</td>\n",
       "    </tr>\n",
       "  </tbody>\n",
       "</table>\n",
       "</div>"
      ],
      "text/plain": [
       "     Phone  Color  Year  Price  phone_enc  color_enc\n",
       "0  Phone 1   Blue  2018    500          0          1\n",
       "1  Phone 2  Black  2016    450          1          0\n",
       "2  Phone 3   Blue  2017    600          2          1\n",
       "3  Phone 4   Grey  2018    800          3          2"
      ]
     },
     "execution_count": 6,
     "metadata": {},
     "output_type": "execute_result"
    }
   ],
   "source": [
    "phone_df"
   ]
  },
  {
   "cell_type": "code",
   "execution_count": 7,
   "metadata": {},
   "outputs": [],
   "source": [
    "from sklearn.preprocessing import OneHotEncoder"
   ]
  },
  {
   "cell_type": "code",
   "execution_count": 8,
   "metadata": {},
   "outputs": [],
   "source": [
    "# one hot encoding\n",
    "\n",
    "phone_ohe = OneHotEncoder()\n",
    "color_ohe = OneHotEncoder()\n",
    "\n",
    "phone_ohe_array = phone_ohe.fit_transform(phone_df[\"phone_enc\"].values.reshape(-1,1)).toarray()\n",
    "\n",
    "color_ohe_array = color_ohe.fit_transform(phone_df[\"color_enc\"].values.reshape(-1,1)).toarray()"
   ]
  },
  {
   "cell_type": "code",
   "execution_count": 9,
   "metadata": {},
   "outputs": [
    {
     "data": {
      "text/plain": [
       "array([[1., 0., 0., 0.],\n",
       "       [0., 1., 0., 0.],\n",
       "       [0., 0., 1., 0.],\n",
       "       [0., 0., 0., 1.]])"
      ]
     },
     "execution_count": 9,
     "metadata": {},
     "output_type": "execute_result"
    }
   ],
   "source": [
    "phone_ohe_array"
   ]
  },
  {
   "cell_type": "code",
   "execution_count": null,
   "metadata": {},
   "outputs": [],
   "source": [
    "# adding the ohe'd features back to the original dataset\n",
    "\n",
    "phone_df_ohe = pd.DataFrame(phone_ohe_array, columns= [\"Phone_\"+str(int(i))for i in range(phone_ohe_array.shape[1])])\n",
    "phone_df = pd.concat([phone_df, phone_df_ohe], axis=1)"
   ]
  },
  {
   "cell_type": "code",
   "execution_count": null,
   "metadata": {},
   "outputs": [],
   "source": [
    "phone_df"
   ]
  },
  {
   "cell_type": "code",
   "execution_count": null,
   "metadata": {},
   "outputs": [],
   "source": [
    "color_df_ohe = pd.DataFrame(color_ohe_array, columns= [\"Color_\"+str(int(i))for i in range(color_ohe_array.shape[1])])\n",
    "phone_df = pd.concat([phone_df, color_df_ohe], axis=1)\n",
    "\n",
    "phone_df"
   ]
  },
  {
   "cell_type": "code",
   "execution_count": null,
   "metadata": {},
   "outputs": [],
   "source": [
    "phone_df.drop([\"Phone\", \"Color\", \"phone_enc\", \"color_enc\"], axis=1)"
   ]
  },
  {
   "cell_type": "markdown",
   "metadata": {},
   "source": [
    "### Get_Dummies"
   ]
  },
  {
   "cell_type": "code",
   "execution_count": null,
   "metadata": {},
   "outputs": [],
   "source": [
    "phone_df"
   ]
  },
  {
   "cell_type": "code",
   "execution_count": null,
   "metadata": {},
   "outputs": [],
   "source": [
    "phone_df_dummies = pd.get_dummies(phone_df, columns=[\"Phone\", \"Color\"])\n",
    "phone_df_dummies"
   ]
  },
  {
   "cell_type": "markdown",
   "metadata": {},
   "source": [
    "### Crosstab"
   ]
  },
  {
   "cell_type": "code",
   "execution_count": null,
   "metadata": {},
   "outputs": [],
   "source": [
    "# loading the dataset\n",
    "\n",
    "adult_df = pd.read_csv(\"adult.csv\")\n",
    "adult_df.head(10)"
   ]
  },
  {
   "cell_type": "code",
   "execution_count": null,
   "metadata": {},
   "outputs": [],
   "source": [
    "pd.crosstab(adult_df.occupation, adult_df.education_level)"
   ]
  },
  {
   "cell_type": "code",
   "execution_count": null,
   "metadata": {},
   "outputs": [],
   "source": [
    "pd.crosstab(adult_df.occupation, adult_df.education_level, margins=True, margins_name=\"Total\")"
   ]
  },
  {
   "cell_type": "code",
   "execution_count": null,
   "metadata": {},
   "outputs": [],
   "source": [
    "pd.crosstab(adult_df.occupation, adult_df.sex, values=adult_df.age, aggfunc=\"mean\")"
   ]
  },
  {
   "cell_type": "code",
   "execution_count": null,
   "metadata": {},
   "outputs": [],
   "source": [
    "# grouping with crosstab\n",
    "\n",
    "pd.crosstab([adult_df[\"marital-status\"], adult_df[\"workclass\"]], adult_df[\"sex\"])"
   ]
  },
  {
   "cell_type": "code",
   "execution_count": null,
   "metadata": {},
   "outputs": [],
   "source": []
  }
 ],
 "metadata": {
  "kernelspec": {
   "display_name": "conda_tensorflow_p36",
   "language": "python",
   "name": "conda_tensorflow_p36"
  },
  "language_info": {
   "codemirror_mode": {
    "name": "ipython",
    "version": 3
   },
   "file_extension": ".py",
   "mimetype": "text/x-python",
   "name": "python",
   "nbconvert_exporter": "python",
   "pygments_lexer": "ipython3",
   "version": "3.6.5"
  }
 },
 "nbformat": 4,
 "nbformat_minor": 4
}
