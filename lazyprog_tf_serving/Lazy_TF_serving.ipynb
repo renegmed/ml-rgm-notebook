{
 "cells": [
  {
   "cell_type": "code",
   "execution_count": 1,
   "metadata": {},
   "outputs": [
    {
     "name": "stdout",
     "output_type": "stream",
     "text": [
      "WARNING:tensorflow:From /home/ec2-user/anaconda3/envs/tensorflow_p36/lib/python3.6/site-packages/tensorflow_core/__init__.py:1467: The name tf.estimator.inputs is deprecated. Please use tf.compat.v1.estimator.inputs instead.\n",
      "\n"
     ]
    }
   ],
   "source": [
    "import os\n",
    "import boto3\n",
    "import numpy as np\n",
    "import tensorflow as tf\n",
    "import sagemaker\n",
    "from sagemaker import get_execution_role\n",
    "\n",
    "sagemaker_session = sagemaker.Session()\n",
    "\n",
    "role = get_execution_role()\n",
    "region = sagemaker_session.boto_session.region_name\n"
   ]
  },
  {
   "cell_type": "code",
   "execution_count": 2,
   "metadata": {},
   "outputs": [
    {
     "name": "stdout",
     "output_type": "stream",
     "text": [
      "s3://sagemaker-us-east-1-731833107751/mnist-data\n"
     ]
    }
   ],
   "source": [
    "training_data_uri = 's3://sagemaker-us-east-1-731833107751/mnist-data'\n",
    "print(training_data_uri)"
   ]
  },
  {
   "cell_type": "code",
   "execution_count": null,
   "metadata": {},
   "outputs": [],
   "source": [
    "# Store in S3\n",
    "\n",
    "# s3 = boto3.resource(\"s3\")\n",
    "# for bucket in s3.buckets.all():\n",
    "#     print(bucket.name)\n",
    "    "
   ]
  },
  {
   "cell_type": "code",
   "execution_count": 3,
   "metadata": {},
   "outputs": [],
   "source": [
    "fashion_mnist = tf.keras.datasets.fashion_mnist\n",
    "(x_train, y_train), (x_test, y_test) = fashion_mnist.load_data()\n",
    "\n",
    "np.save('/tmp/x_train', x_train)\n",
    "np.save('/tmp/y_train', y_train)\n",
    "np.save('/tmp/x_test', x_test)\n",
    "np.save('/tmp/y_test', y_test)\n",
    "#s3.Bucket('sagemaker-us-east-1-731833107751').upload_file('ec2_file', 's3_file')"
   ]
  },
  {
   "cell_type": "code",
   "execution_count": null,
   "metadata": {},
   "outputs": [],
   "source": [
    "# s3_path = 's3://' + sagemaker_session.default_bucket() + '/'\n",
    "# mnist_data_path = s3_path + \"/mnist_data\"\n",
    "# print (s3_path)"
   ]
  },
  {
   "cell_type": "code",
   "execution_count": 4,
   "metadata": {},
   "outputs": [],
   "source": [
    "prefix = 'mnist-data'\n",
    "\n",
    "training_input_path = sagemaker_session.upload_data('/tmp/x_train.npy', key_prefix=prefix)\n",
    "training_label_path = sagemaker_session.upload_data('/tmp/y_train.npy', key_prefix=prefix)\n",
    "test_input_path = sagemaker_session.upload_data('/tmp/x_test.npy', key_prefix=prefix)\n",
    "test_label_path = sagemaker_session.upload_data('/tmp/y_test.npy', key_prefix=prefix)"
   ]
  },
  {
   "cell_type": "code",
   "execution_count": null,
   "metadata": {},
   "outputs": [],
   "source": [
    "# s3.Bucket(s3_path).upload_file('/tmp/x_train.npy','mnist-data/x_train.npy') \n",
    "# s3.Bucket(s3_path).upload_file('/tmp/y_train.npy', 'mnist-data/y_train.npy')\n",
    "# s3.Bucket(s3_path).upload_file('/tmp/x_test.npy', 'mnist-data/x_test.npy')\n",
    "# s3.Bucket(s3_path).upload_file('/tmp/y_test.npy', 'mnist-data/y_test.npy')"
   ]
  },
  {
   "cell_type": "code",
   "execution_count": null,
   "metadata": {},
   "outputs": [],
   "source": [
    "# TensorFlow 2.0 script\n",
    "!pygmentize 'mnist-2.py'"
   ]
  },
  {
   "cell_type": "code",
   "execution_count": 5,
   "metadata": {},
   "outputs": [],
   "source": [
    "from sagemaker.tensorflow import TensorFlow\n",
    "mnist_estimator2 = TensorFlow(entry_point='mnist-2.py',\n",
    "                             role=role,\n",
    "                             train_instance_count=1,\n",
    "                             train_instance_type='local',\n",
    "                             #train_instance_type='ml.m5.4xlarge',\n",
    "                             framework_version='2.0.0',\n",
    "                             py_version='py3',\n",
    "                             distributions={'parameter_server': {'enabled': True}})"
   ]
  },
  {
   "cell_type": "code",
   "execution_count": 6,
   "metadata": {},
   "outputs": [
    {
     "name": "stdout",
     "output_type": "stream",
     "text": [
      "Creating tmp29bpqx7y_algo-1-kakhd_1 ... \n",
      "\u001b[1BAttaching to tmp29bpqx7y_algo-1-kakhd_12mdone\u001b[0m\n",
      "\u001b[36malgo-1-kakhd_1  |\u001b[0m 2020-02-05 23:25:45,819 sagemaker-containers INFO     Imported framework sagemaker_tensorflow_container.training\n",
      "\u001b[36malgo-1-kakhd_1  |\u001b[0m 2020-02-05 23:25:45,827 sagemaker-containers INFO     No GPUs detected (normal if no gpus installed)\n",
      "\u001b[36malgo-1-kakhd_1  |\u001b[0m 2020-02-05 23:25:46,168 sagemaker-containers INFO     No GPUs detected (normal if no gpus installed)\n",
      "\u001b[36malgo-1-kakhd_1  |\u001b[0m 2020-02-05 23:25:46,191 sagemaker-containers INFO     No GPUs detected (normal if no gpus installed)\n",
      "\u001b[36malgo-1-kakhd_1  |\u001b[0m 2020-02-05 23:25:46,210 sagemaker-containers INFO     No GPUs detected (normal if no gpus installed)\n",
      "\u001b[36malgo-1-kakhd_1  |\u001b[0m 2020-02-05 23:25:46,223 sagemaker-containers INFO     Invoking user script\n",
      "\u001b[36malgo-1-kakhd_1  |\u001b[0m \n",
      "\u001b[36malgo-1-kakhd_1  |\u001b[0m Training Env:\n",
      "\u001b[36malgo-1-kakhd_1  |\u001b[0m \n",
      "\u001b[36malgo-1-kakhd_1  |\u001b[0m {\n",
      "\u001b[36malgo-1-kakhd_1  |\u001b[0m     \"additional_framework_parameters\": {\n",
      "\u001b[36malgo-1-kakhd_1  |\u001b[0m         \"sagemaker_parameter_server_enabled\": true\n",
      "\u001b[36malgo-1-kakhd_1  |\u001b[0m     },\n",
      "\u001b[36malgo-1-kakhd_1  |\u001b[0m     \"channel_input_dirs\": {\n",
      "\u001b[36malgo-1-kakhd_1  |\u001b[0m         \"training\": \"/opt/ml/input/data/training\"\n",
      "\u001b[36malgo-1-kakhd_1  |\u001b[0m     },\n",
      "\u001b[36malgo-1-kakhd_1  |\u001b[0m     \"current_host\": \"algo-1-kakhd\",\n",
      "\u001b[36malgo-1-kakhd_1  |\u001b[0m     \"framework_module\": \"sagemaker_tensorflow_container.training:main\",\n",
      "\u001b[36malgo-1-kakhd_1  |\u001b[0m     \"hosts\": [\n",
      "\u001b[36malgo-1-kakhd_1  |\u001b[0m         \"algo-1-kakhd\"\n",
      "\u001b[36malgo-1-kakhd_1  |\u001b[0m     ],\n",
      "\u001b[36malgo-1-kakhd_1  |\u001b[0m     \"hyperparameters\": {\n",
      "\u001b[36malgo-1-kakhd_1  |\u001b[0m         \"model_dir\": \"s3://sagemaker-us-east-1-731833107751/tensorflow-training-2020-02-05-23-25-36-827/model\"\n",
      "\u001b[36malgo-1-kakhd_1  |\u001b[0m     },\n",
      "\u001b[36malgo-1-kakhd_1  |\u001b[0m     \"input_config_dir\": \"/opt/ml/input/config\",\n",
      "\u001b[36malgo-1-kakhd_1  |\u001b[0m     \"input_data_config\": {\n",
      "\u001b[36malgo-1-kakhd_1  |\u001b[0m         \"training\": {\n",
      "\u001b[36malgo-1-kakhd_1  |\u001b[0m             \"TrainingInputMode\": \"File\"\n",
      "\u001b[36malgo-1-kakhd_1  |\u001b[0m         }\n",
      "\u001b[36malgo-1-kakhd_1  |\u001b[0m     },\n",
      "\u001b[36malgo-1-kakhd_1  |\u001b[0m     \"input_dir\": \"/opt/ml/input\",\n",
      "\u001b[36malgo-1-kakhd_1  |\u001b[0m     \"is_master\": true,\n",
      "\u001b[36malgo-1-kakhd_1  |\u001b[0m     \"job_name\": \"tensorflow-training-2020-02-05-23-25-36-827\",\n",
      "\u001b[36malgo-1-kakhd_1  |\u001b[0m     \"log_level\": 20,\n",
      "\u001b[36malgo-1-kakhd_1  |\u001b[0m     \"master_hostname\": \"algo-1-kakhd\",\n",
      "\u001b[36malgo-1-kakhd_1  |\u001b[0m     \"model_dir\": \"/opt/ml/model\",\n",
      "\u001b[36malgo-1-kakhd_1  |\u001b[0m     \"module_dir\": \"s3://sagemaker-us-east-1-731833107751/tensorflow-training-2020-02-05-23-25-36-827/source/sourcedir.tar.gz\",\n",
      "\u001b[36malgo-1-kakhd_1  |\u001b[0m     \"module_name\": \"mnist-2\",\n",
      "\u001b[36malgo-1-kakhd_1  |\u001b[0m     \"network_interface_name\": \"eth0\",\n",
      "\u001b[36malgo-1-kakhd_1  |\u001b[0m     \"num_cpus\": 2,\n",
      "\u001b[36malgo-1-kakhd_1  |\u001b[0m     \"num_gpus\": 0,\n",
      "\u001b[36malgo-1-kakhd_1  |\u001b[0m     \"output_data_dir\": \"/opt/ml/output/data\",\n",
      "\u001b[36malgo-1-kakhd_1  |\u001b[0m     \"output_dir\": \"/opt/ml/output\",\n",
      "\u001b[36malgo-1-kakhd_1  |\u001b[0m     \"output_intermediate_dir\": \"/opt/ml/output/intermediate\",\n",
      "\u001b[36malgo-1-kakhd_1  |\u001b[0m     \"resource_config\": {\n",
      "\u001b[36malgo-1-kakhd_1  |\u001b[0m         \"current_host\": \"algo-1-kakhd\",\n",
      "\u001b[36malgo-1-kakhd_1  |\u001b[0m         \"hosts\": [\n",
      "\u001b[36malgo-1-kakhd_1  |\u001b[0m             \"algo-1-kakhd\"\n",
      "\u001b[36malgo-1-kakhd_1  |\u001b[0m         ]\n",
      "\u001b[36malgo-1-kakhd_1  |\u001b[0m     },\n",
      "\u001b[36malgo-1-kakhd_1  |\u001b[0m     \"user_entry_point\": \"mnist-2.py\"\n",
      "\u001b[36malgo-1-kakhd_1  |\u001b[0m }\n",
      "\u001b[36malgo-1-kakhd_1  |\u001b[0m \n",
      "\u001b[36malgo-1-kakhd_1  |\u001b[0m Environment variables:\n",
      "\u001b[36malgo-1-kakhd_1  |\u001b[0m \n",
      "\u001b[36malgo-1-kakhd_1  |\u001b[0m SM_HOSTS=[\"algo-1-kakhd\"]\n",
      "\u001b[36malgo-1-kakhd_1  |\u001b[0m SM_NETWORK_INTERFACE_NAME=eth0\n",
      "\u001b[36malgo-1-kakhd_1  |\u001b[0m SM_HPS={\"model_dir\":\"s3://sagemaker-us-east-1-731833107751/tensorflow-training-2020-02-05-23-25-36-827/model\"}\n",
      "\u001b[36malgo-1-kakhd_1  |\u001b[0m SM_USER_ENTRY_POINT=mnist-2.py\n",
      "\u001b[36malgo-1-kakhd_1  |\u001b[0m SM_FRAMEWORK_PARAMS={\"sagemaker_parameter_server_enabled\":true}\n",
      "\u001b[36malgo-1-kakhd_1  |\u001b[0m SM_RESOURCE_CONFIG={\"current_host\":\"algo-1-kakhd\",\"hosts\":[\"algo-1-kakhd\"]}\n",
      "\u001b[36malgo-1-kakhd_1  |\u001b[0m SM_INPUT_DATA_CONFIG={\"training\":{\"TrainingInputMode\":\"File\"}}\n",
      "\u001b[36malgo-1-kakhd_1  |\u001b[0m SM_OUTPUT_DATA_DIR=/opt/ml/output/data\n",
      "\u001b[36malgo-1-kakhd_1  |\u001b[0m SM_CHANNELS=[\"training\"]\n",
      "\u001b[36malgo-1-kakhd_1  |\u001b[0m SM_CURRENT_HOST=algo-1-kakhd\n",
      "\u001b[36malgo-1-kakhd_1  |\u001b[0m SM_MODULE_NAME=mnist-2\n",
      "\u001b[36malgo-1-kakhd_1  |\u001b[0m SM_LOG_LEVEL=20\n",
      "\u001b[36malgo-1-kakhd_1  |\u001b[0m SM_FRAMEWORK_MODULE=sagemaker_tensorflow_container.training:main\n",
      "\u001b[36malgo-1-kakhd_1  |\u001b[0m SM_INPUT_DIR=/opt/ml/input\n",
      "\u001b[36malgo-1-kakhd_1  |\u001b[0m SM_INPUT_CONFIG_DIR=/opt/ml/input/config\n",
      "\u001b[36malgo-1-kakhd_1  |\u001b[0m SM_OUTPUT_DIR=/opt/ml/output\n",
      "\u001b[36malgo-1-kakhd_1  |\u001b[0m SM_NUM_CPUS=2\n",
      "\u001b[36malgo-1-kakhd_1  |\u001b[0m SM_NUM_GPUS=0\n",
      "\u001b[36malgo-1-kakhd_1  |\u001b[0m SM_MODEL_DIR=/opt/ml/model\n",
      "\u001b[36malgo-1-kakhd_1  |\u001b[0m SM_MODULE_DIR=s3://sagemaker-us-east-1-731833107751/tensorflow-training-2020-02-05-23-25-36-827/source/sourcedir.tar.gz\n",
      "\u001b[36malgo-1-kakhd_1  |\u001b[0m SM_TRAINING_ENV={\"additional_framework_parameters\":{\"sagemaker_parameter_server_enabled\":true},\"channel_input_dirs\":{\"training\":\"/opt/ml/input/data/training\"},\"current_host\":\"algo-1-kakhd\",\"framework_module\":\"sagemaker_tensorflow_container.training:main\",\"hosts\":[\"algo-1-kakhd\"],\"hyperparameters\":{\"model_dir\":\"s3://sagemaker-us-east-1-731833107751/tensorflow-training-2020-02-05-23-25-36-827/model\"},\"input_config_dir\":\"/opt/ml/input/config\",\"input_data_config\":{\"training\":{\"TrainingInputMode\":\"File\"}},\"input_dir\":\"/opt/ml/input\",\"is_master\":true,\"job_name\":\"tensorflow-training-2020-02-05-23-25-36-827\",\"log_level\":20,\"master_hostname\":\"algo-1-kakhd\",\"model_dir\":\"/opt/ml/model\",\"module_dir\":\"s3://sagemaker-us-east-1-731833107751/tensorflow-training-2020-02-05-23-25-36-827/source/sourcedir.tar.gz\",\"module_name\":\"mnist-2\",\"network_interface_name\":\"eth0\",\"num_cpus\":2,\"num_gpus\":0,\"output_data_dir\":\"/opt/ml/output/data\",\"output_dir\":\"/opt/ml/output\",\"output_intermediate_dir\":\"/opt/ml/output/intermediate\",\"resource_config\":{\"current_host\":\"algo-1-kakhd\",\"hosts\":[\"algo-1-kakhd\"]},\"user_entry_point\":\"mnist-2.py\"}\n",
      "\u001b[36malgo-1-kakhd_1  |\u001b[0m SM_USER_ARGS=[\"--model_dir\",\"s3://sagemaker-us-east-1-731833107751/tensorflow-training-2020-02-05-23-25-36-827/model\"]\n",
      "\u001b[36malgo-1-kakhd_1  |\u001b[0m SM_OUTPUT_INTERMEDIATE_DIR=/opt/ml/output/intermediate\n",
      "\u001b[36malgo-1-kakhd_1  |\u001b[0m SM_CHANNEL_TRAINING=/opt/ml/input/data/training\n",
      "\u001b[36malgo-1-kakhd_1  |\u001b[0m SM_HP_MODEL_DIR=s3://sagemaker-us-east-1-731833107751/tensorflow-training-2020-02-05-23-25-36-827/model\n",
      "\u001b[36malgo-1-kakhd_1  |\u001b[0m PYTHONPATH=/opt/ml/code:/usr/local/bin:/usr/lib/python36.zip:/usr/lib/python3.6:/usr/lib/python3.6/lib-dynload:/usr/local/lib/python3.6/dist-packages:/usr/lib/python3/dist-packages\n",
      "\u001b[36malgo-1-kakhd_1  |\u001b[0m \n",
      "\u001b[36malgo-1-kakhd_1  |\u001b[0m Invoking script with the following command:\n",
      "\u001b[36malgo-1-kakhd_1  |\u001b[0m \n",
      "\u001b[36malgo-1-kakhd_1  |\u001b[0m /usr/bin/python3 mnist-2.py --model_dir s3://sagemaker-us-east-1-731833107751/tensorflow-training-2020-02-05-23-25-36-827/model\n",
      "\u001b[36malgo-1-kakhd_1  |\u001b[0m \n",
      "\u001b[36malgo-1-kakhd_1  |\u001b[0m \n",
      "\u001b[36malgo-1-kakhd_1  |\u001b[0m Train on 60000 samples, validate on 10000 samples\n",
      "\u001b[36malgo-1-kakhd_1  |\u001b[0m Epoch 1/5\n",
      "60000/60000 [==============================] - 22s 364us/sample - loss: 0.5139 - accuracy: 0.8097 - val_loss: 0.4029 - val_accuracy: 0.8489\n",
      "\u001b[36malgo-1-kakhd_1  |\u001b[0m Epoch 2/5\n",
      "60000/60000 [==============================] - 20s 339us/sample - loss: 0.3598 - accuracy: 0.8646 - val_loss: 0.3576 - val_accuracy: 0.8623\n",
      "\u001b[36malgo-1-kakhd_1  |\u001b[0m Epoch 3/5\n",
      "60000/60000 [==============================] - 21s 342us/sample - loss: 0.3122 - accuracy: 0.8822 - val_loss: 0.3175 - val_accuracy: 0.8820\n",
      "\u001b[36malgo-1-kakhd_1  |\u001b[0m Epoch 4/5\n",
      "60000/60000 [==============================] - 21s 345us/sample - loss: 0.2782 - accuracy: 0.8955 - val_loss: 0.3025 - val_accuracy: 0.8910\n",
      "\u001b[36malgo-1-kakhd_1  |\u001b[0m Epoch 5/5\n",
      "60000/60000 [==============================] - 21s 346us/sample - loss: 0.2560 - accuracy: 0.9021 - val_loss: 0.3020 - val_accuracy: 0.8894\n",
      "\u001b[36malgo-1-kakhd_1  |\u001b[0m 2020-02-05 23:27:35.046343: W tensorflow/python/util/util.cc:299] Sets are not currently considered sequences, but this may change in the future, so consider avoiding using them.\n",
      "\u001b[36malgo-1-kakhd_1  |\u001b[0m WARNING:tensorflow:From /usr/local/lib/python3.6/dist-packages/tensorflow_core/python/ops/resource_variable_ops.py:1781: calling BaseResourceVariable.__init__ (from tensorflow.python.ops.resource_variable_ops) with constraint is deprecated and will be removed in a future version.\n",
      "\u001b[36malgo-1-kakhd_1  |\u001b[0m Instructions for updating:\n",
      "\u001b[36malgo-1-kakhd_1  |\u001b[0m If using Keras pass *_constraint arguments to layers.\n",
      "\u001b[36malgo-1-kakhd_1  |\u001b[0m 2020-02-05 23:27:36,135 sagemaker-containers INFO     Reporting training SUCCESS\n",
      "\u001b[36mtmp29bpqx7y_algo-1-kakhd_1 exited with code 0\n",
      "\u001b[0mAborting on container exit...\n",
      "===== Job Complete =====\n"
     ]
    }
   ],
   "source": [
    "mnist_estimator2.fit(training_data_uri)"
   ]
  },
  {
   "cell_type": "code",
   "execution_count": null,
   "metadata": {},
   "outputs": [],
   "source": [
    "predictor2 = mnist_estimator2.deploy(initial_instance_count=1, instance_type='ml.c5.xlarge')"
   ]
  },
  {
   "cell_type": "code",
   "execution_count": null,
   "metadata": {},
   "outputs": [],
   "source": [
    "# # Save the model to a temporary directory\n",
    "# import tempfile\n",
    "\n",
    "# MODEL_DIR = tempfile.gettempdir()\n",
    "# version = 1\n",
    "# export_path = os.path.join(MODEL_DIR, str(version))\n",
    "\n",
    "# print('export_path = {}\\n'.format(export_path))\n",
    "# if os.path.isdir(export_path):\n",
    "#     print('\\nAlready saved a model, cleaning up\\n')\n",
    "#     !rm -r {export_path}\n",
    "    \n",
    "# tf.saved_model.save(model, export_path)\n",
    "# # model.save(export_path)\n",
    "\n",
    "# print('\\nSaved model:')\n",
    "# !ls -l {export_path}"
   ]
  },
  {
   "cell_type": "code",
   "execution_count": null,
   "metadata": {},
   "outputs": [],
   "source": [
    "#tf.saved_model.contains_saved_model(export_path)\n"
   ]
  },
  {
   "cell_type": "code",
   "execution_count": null,
   "metadata": {},
   "outputs": [],
   "source": [
    "#!saved_model_cli show --dir {export_path} --all\n"
   ]
  },
  {
   "cell_type": "code",
   "execution_count": null,
   "metadata": {},
   "outputs": [],
   "source": [
    "#new_model = tf.saved_model.load(export_path)"
   ]
  },
  {
   "cell_type": "code",
   "execution_count": null,
   "metadata": {},
   "outputs": [],
   "source": [
    "#outputs = new_model(x_test[1])"
   ]
  },
  {
   "cell_type": "code",
   "execution_count": null,
   "metadata": {},
   "outputs": [],
   "source": [
    "#f = new_model.signatures[\"serving_default\"]\n",
    "#print(f(x=tf.constant([[1.]])))"
   ]
  },
  {
   "cell_type": "code",
   "execution_count": null,
   "metadata": {},
   "outputs": [],
   "source": []
  }
 ],
 "metadata": {
  "kernelspec": {
   "display_name": "conda_tensorflow_p36",
   "language": "python",
   "name": "conda_tensorflow_p36"
  },
  "language_info": {
   "codemirror_mode": {
    "name": "ipython",
    "version": 3
   },
   "file_extension": ".py",
   "mimetype": "text/x-python",
   "name": "python",
   "nbconvert_exporter": "python",
   "pygments_lexer": "ipython3",
   "version": "3.6.5"
  }
 },
 "nbformat": 4,
 "nbformat_minor": 4
}
